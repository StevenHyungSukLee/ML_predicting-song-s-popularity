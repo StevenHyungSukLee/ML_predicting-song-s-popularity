{
 "cells": [
  {
   "cell_type": "code",
   "execution_count": null,
   "metadata": {},
   "outputs": [],
   "source": [
    "import pandas as pd\n",
    "df = pd.read_csv('spotify_songs.csv')"
   ]
  },
  {
   "cell_type": "code",
   "execution_count": null,
   "metadata": {},
   "outputs": [],
   "source": [
    "df.head(5)"
   ]
  },
  {
   "cell_type": "code",
   "execution_count": null,
   "metadata": {},
   "outputs": [],
   "source": [
    "len(df)\n",
    "df.iloc[0]['lyrics']\n",
    "from string import punctuation\n",
    "punc_list = list(punctuation)\n",
    "print(punc_list)\n",
    "\n",
    "curr = df.iloc[1]['lyrics']\n",
    "print(curr)\n",
    "for punc in punc_list:\n",
    "    curr = curr.replace(punc, ' ')\n",
    "    curr = curr.lower()\n",
    "\n",
    "print(curr)"
   ]
  },
  {
   "cell_type": "code",
   "execution_count": null,
   "metadata": {},
   "outputs": [],
   "source": [
    "track_name = []\n",
    "track_artist = []\n",
    "lyrics = []\n",
    "track_popularity = []\n",
    "genre = []\n",
    "for i in range(len(df)):\n",
    "    if df.iloc[i]['language'] == 'en':\n",
    "        track_name.append(df.iloc[i]['track_name'])\n",
    "        track_artist.append(df.iloc[i]['track_artist'])\n",
    "        genre.append(df.iloc[i]['playlist_genre'])\n",
    "        if df.iloc[i]['track_popularity'] >= 70:\n",
    "            track_popularity.append(1)\n",
    "        else:\n",
    "            track_popularity.append(0)\n",
    "        curr_lyrics = df.iloc[i]['lyrics']\n",
    "        for punc in punc_list:\n",
    "            if punc in curr_lyrics:\n",
    "                curr_lyrics = curr_lyrics.replace(punc, '')\n",
    "                curr_lyrics = curr_lyrics.lower()\n",
    "        lyrics.append(curr_lyrics)\n"
   ]
  },
  {
   "cell_type": "code",
   "execution_count": null,
   "metadata": {},
   "outputs": [],
   "source": [
    "new_dat = {\n",
    "    'artist': track_artist,\n",
    "    'name': track_name,\n",
    "    'popularity': track_popularity,\n",
    "    'genre': genre,\n",
    "    'lyrics': lyrics\n",
    "}\n",
    "\n",
    "new_df = pd.DataFrame(new_dat)\n",
    "new_df"
   ]
  },
  {
   "cell_type": "code",
   "execution_count": null,
   "metadata": {},
   "outputs": [],
   "source": [
    "genre_set = set()\n",
    "for i in range(len(new_df)):\n",
    "    genre_set.add(new_df.iloc[i]['genre'])\n",
    "\n",
    "genre_set"
   ]
  },
  {
   "cell_type": "code",
   "execution_count": null,
   "metadata": {},
   "outputs": [],
   "source": [
    "df_edm = new_df[new_df['genre'] == 'edm']\n",
    "df_latin = new_df[new_df['genre'] == 'latin']\n",
    "df_pop = new_df[new_df['genre'] == 'pop']\n",
    "df_rb = new_df[new_df['genre'] == 'r&b']\n",
    "df_rap = new_df[new_df['genre'] == 'rap']\n",
    "df_rock = new_df[new_df['genre'] == 'rock']"
   ]
  },
  {
   "cell_type": "code",
   "execution_count": null,
   "metadata": {},
   "outputs": [],
   "source": [
    "def popularity_count(df):\n",
    "    popular = 0\n",
    "    not_popular = 0\n",
    "    for i in range(len(df)):\n",
    "        if df.iloc[i]['popularity'] == 1:\n",
    "            popular += 1\n",
    "        else:\n",
    "            not_popular += 1\n",
    "    print(popular)\n",
    "    print(not_popular)\n",
    "    print(popular / (not_popular + popular))\n"
   ]
  },
  {
   "cell_type": "code",
   "execution_count": null,
   "metadata": {},
   "outputs": [],
   "source": [
    "popularity_count(df_edm)\n",
    "popularity_count(df_latin)\n",
    "popularity_count(df_pop)\n",
    "popularity_count(df_rb)\n",
    "popularity_count(df_rap)\n",
    "popularity_count(df_rock)"
   ]
  },
  {
   "cell_type": "code",
   "execution_count": null,
   "metadata": {},
   "outputs": [],
   "source": [
    "df_edm.to_csv('es_edm.csv')\n",
    "df_latin.to_csv('es_latin.csv')\n",
    "df_pop.to_csv('es_pop.csv')\n",
    "df_rb.to_csv('es_rb.csv')\n",
    "df_rap.to_csv('es_rap.csv')\n",
    "df_rock.to_csv('es_rock.csv')\n",
    "new_df.to_csv('es_total.csv')"
   ]
  }
 ],
 "metadata": {
  "language_info": {
   "name": "python"
  },
  "orig_nbformat": 4
 },
 "nbformat": 4,
 "nbformat_minor": 2
}
